{
 "cells": [
  {
   "cell_type": "markdown",
   "metadata": {},
   "source": [
    "# Sensitivity Analysis"
   ]
  },
  {
   "cell_type": "markdown",
   "metadata": {},
   "source": [
    "- one way to determine which features contribute to an output prediction is via sensitivity analysis, i.e. the gradient of the output with respect to the input features\n",
    "- this tells us how much the output is expected to change when that input feature changes\n",
    "- Depeweg et al. (2017) studies this approach for uncertainty in the report titled \"Sensitivity Analysis for Predictive Uncertainty in Bayesian Neural Networks\"\n",
    "- This notebook applies that approach to images. With images, this approach does not work well because it allows the sensitivity of each pixel to vary irrespective of neighboring pixels. For images, we would like a smoother saliency map. "
   ]
  },
  {
   "cell_type": "code",
   "execution_count": 1,
   "metadata": {},
   "outputs": [
    {
     "name": "stderr",
     "output_type": "stream",
     "text": [
      "/remote/mlsalt-2017/lrc45/Envs/concretedropout/lib/python3.5/site-packages/h5py/__init__.py:36: FutureWarning: Conversion of the second argument of issubdtype from `float` to `np.floating` is deprecated. In future, it will be treated as `np.float64 == np.dtype(float).type`.\n",
      "  from ._conv import register_converters as _register_converters\n",
      "Using TensorFlow backend.\n"
     ]
    }
   ],
   "source": [
    "%matplotlib inline\n",
    "import matplotlib\n",
    "import matplotlib.pyplot as plt\n",
    "from keras.models import load_model\n",
    "import numpy as np\n",
    "from numpy import ma\n",
    "from keras.layers import Input\n",
    "import tensorflow as tf\n",
    "from toolbox import load_dataset"
   ]
  },
  {
   "cell_type": "code",
   "execution_count": 2,
   "metadata": {},
   "outputs": [],
   "source": [
    "sess = tf.InteractiveSession()\n",
    "tf.global_variables_initializer().run()"
   ]
  },
  {
   "cell_type": "code",
   "execution_count": 3,
   "metadata": {},
   "outputs": [
    {
     "name": "stderr",
     "output_type": "stream",
     "text": [
      "/remote/mlsalt-2017/lrc45/Envs/concretedropout/lib/python3.5/site-packages/keras/models.py:255: UserWarning: No training configuration found in save file: the model was *not* compiled. Compile it manually.\n",
      "  warnings.warn('No training configuration found in save file: '\n"
     ]
    }
   ],
   "source": [
    "dataset = 'cifar10'\n",
    "file_name = '../../models/bbalpha/keras/saved_models/{}-cnn-alpha0.5-run1/model-test.h5'.format(dataset)\n",
    "nb_test = 100\n",
    "model = load_model(file_name)\n",
    "_, _, test = load_dataset.load_image_data(dataset, channels_first=False)"
   ]
  },
  {
   "cell_type": "code",
   "execution_count": 4,
   "metadata": {},
   "outputs": [],
   "source": [
    "input_shape = model.layers[0].input_shape[1:] # remove None dimension"
   ]
  },
  {
   "cell_type": "code",
   "execution_count": 5,
   "metadata": {},
   "outputs": [
    {
     "data": {
      "text/plain": [
       "[<tf.Variable 'conv2d_1/kernel:0' shape=(3, 3, 3, 32) dtype=float32_ref>,\n",
       " <tf.Variable 'conv2d_1/bias:0' shape=(32,) dtype=float32_ref>,\n",
       " <tf.Variable 'conv2d_2/kernel:0' shape=(3, 3, 32, 32) dtype=float32_ref>,\n",
       " <tf.Variable 'conv2d_2/bias:0' shape=(32,) dtype=float32_ref>,\n",
       " <tf.Variable 'dense_1/kernel:0' shape=(6272, 100) dtype=float32_ref>,\n",
       " <tf.Variable 'dense_1/bias:0' shape=(100,) dtype=float32_ref>,\n",
       " <tf.Variable 'dense_2/kernel:0' shape=(100, 10) dtype=float32_ref>,\n",
       " <tf.Variable 'dense_2/bias:0' shape=(10,) dtype=float32_ref>]"
      ]
     },
     "execution_count": 5,
     "metadata": {},
     "output_type": "execute_result"
    }
   ],
   "source": [
    "tf.trainable_variables()"
   ]
  },
  {
   "cell_type": "code",
   "execution_count": 6,
   "metadata": {},
   "outputs": [],
   "source": [
    "x = tf.placeholder(tf.float32, shape=(None,) + input_shape)"
   ]
  },
  {
   "cell_type": "code",
   "execution_count": 7,
   "metadata": {},
   "outputs": [],
   "source": [
    "def MC_dropout(model, x):\n",
    "    pred_mc = model(x) # N x K x D\n",
    "    n_mc = pred_mc.shape[1]\n",
    "    if n_mc > 1:\n",
    "        pred = tf.reduce_mean(pred_mc, 1)\n",
    "    else:\n",
    "        pred = pred_mc\n",
    "    return pred_mc, pred"
   ]
  },
  {
   "cell_type": "code",
   "execution_count": 8,
   "metadata": {},
   "outputs": [],
   "source": [
    "def tf_log2(x):\n",
    "    numerator = tf.log(x)\n",
    "    denominator = tf.log(tf.constant(2, dtype=numerator.dtype))\n",
    "    return numerator / denominator"
   ]
  },
  {
   "cell_type": "code",
   "execution_count": 9,
   "metadata": {},
   "outputs": [],
   "source": [
    "pred_mc, predictions = MC_dropout(model, x)"
   ]
  },
  {
   "cell_type": "code",
   "execution_count": 10,
   "metadata": {},
   "outputs": [
    {
     "data": {
      "text/plain": [
       "<tf.Tensor 'Neg:0' shape=(?,) dtype=float32>"
      ]
     },
     "execution_count": 10,
     "metadata": {},
     "output_type": "execute_result"
    }
   ],
   "source": [
    "plogp = predictions * tf_log2(tf.clip_by_value(predictions,1e-10,1.0))\n",
    "predictive_uncertainty = - tf.reduce_sum(plogp, axis=1)\n",
    "predictive_uncertainty"
   ]
  },
  {
   "cell_type": "code",
   "execution_count": 11,
   "metadata": {},
   "outputs": [
    {
     "data": {
      "text/plain": [
       "<tf.Tensor 'mul_2:0' shape=(?,) dtype=float32>"
      ]
     },
     "execution_count": 11,
     "metadata": {},
     "output_type": "execute_result"
    }
   ],
   "source": [
    "plogp_mc = pred_mc * tf_log2(tf.clip_by_value(pred_mc,1e-10,1.0))\n",
    "aleatoric_uncertainty = - 1 / nb_test * tf.reduce_sum(plogp_mc, axis=(1,2))\n",
    "aleatoric_uncertainty"
   ]
  },
  {
   "cell_type": "code",
   "execution_count": 12,
   "metadata": {},
   "outputs": [
    {
     "data": {
      "text/plain": [
       "<tf.Tensor 'sub:0' shape=(?,) dtype=float32>"
      ]
     },
     "execution_count": 12,
     "metadata": {},
     "output_type": "execute_result"
    }
   ],
   "source": [
    "epistemic_uncertainty = predictive_uncertainty - aleatoric_uncertainty\n",
    "epistemic_uncertainty"
   ]
  },
  {
   "cell_type": "code",
   "execution_count": 13,
   "metadata": {},
   "outputs": [],
   "source": [
    "predictive_grad, = tf.gradients(predictive_uncertainty, x)\n",
    "predictive_grad = tf.stop_gradient(predictive_grad)"
   ]
  },
  {
   "cell_type": "code",
   "execution_count": 14,
   "metadata": {},
   "outputs": [],
   "source": [
    "epistemic_grad, = tf.gradients(epistemic_uncertainty, x)\n",
    "epistemic_grad = tf.stop_gradient(epistemic_grad)"
   ]
  },
  {
   "cell_type": "code",
   "execution_count": 15,
   "metadata": {},
   "outputs": [],
   "source": [
    "aleatoric_grad, = tf.gradients(aleatoric_uncertainty, x)\n",
    "aleatoric_grad = tf.stop_gradient(aleatoric_grad)"
   ]
  },
  {
   "cell_type": "code",
   "execution_count": 16,
   "metadata": {},
   "outputs": [],
   "source": [
    "inds = [150, 5518, 5504, 4442, 6326, 3101, 3717, 4663, 9814, 8150]\n",
    "[p_grad, a_grad, e_grad, preds] = sess.run([predictive_grad, aleatoric_grad, epistemic_grad, predictions], feed_dict={x: test[0][inds]})"
   ]
  },
  {
   "cell_type": "code",
   "execution_count": 17,
   "metadata": {},
   "outputs": [
    {
     "data": {
      "text/plain": [
       "(10, 32, 32, 3)"
      ]
     },
     "execution_count": 17,
     "metadata": {},
     "output_type": "execute_result"
    }
   ],
   "source": [
    "p_grad.shape"
   ]
  },
  {
   "cell_type": "code",
   "execution_count": 61,
   "metadata": {},
   "outputs": [],
   "source": [
    "def plot_image(f, ax, img, cmap):\n",
    "    im = ax.imshow(img, cmap=cmap)\n",
    "    ax.set_xticks([])\n",
    "    ax.set_yticks([])\n",
    "    ticks=[np.min(img), 0, np.max(img)]\n",
    "    cbar = f.colorbar(im,ax=ax,fraction=0.046, pad=0.04, ticks=ticks)\n",
    "    cbar.ax.set_yticklabels(['{:0.2f}'.format(x) for x in ticks]) "
   ]
  },
  {
   "cell_type": "code",
   "execution_count": 62,
   "metadata": {},
   "outputs": [
    {
     "data": {
      "text/plain": [
       "0.093388975"
      ]
     },
     "execution_count": 62,
     "metadata": {},
     "output_type": "execute_result"
    }
   ],
   "source": [
    "np.max(a_grad[ind, :, :, :])"
   ]
  },
  {
   "cell_type": "code",
   "execution_count": 65,
   "metadata": {},
   "outputs": [
    {
     "name": "stdout",
     "output_type": "stream",
     "text": [
      "Predicted 8\n",
      "True 8\n"
     ]
    },
    {
     "data": {
      "image/png": "[encoded data removed]",
      "text/plain": [
       "<matplotlib.figure.Figure at 0x7f466b7b7be0>"
      ]
     },
     "metadata": {},
     "output_type": "display_data"
    }
   ],
   "source": [
    "# plot test data\n",
    "ind = 0\n",
    "print('Predicted {}'.format(np.argmax(preds[ind, :])))\n",
    "print('True {}'.format(np.argmax(test[1][inds[ind]])))\n",
    "\n",
    "f, axes = plt.subplots(2, 3, figsize=(8, 4))\n",
    "[plot_image(f, axes[0][c], e_grad[ind, :, :, c], 'coolwarm') for c in range(3)]\n",
    "[plot_image(f, axes[1][c], a_grad[ind, :, :, c], 'coolwarm') for c in range(3)]\n",
    "axes[0][0].set_title('R')\n",
    "axes[0][1].set_title('G')\n",
    "axes[0][2].set_title('B')\n",
    "axes[0][0].set_ylabel('Epistemic')\n",
    "axes[1][0].set_ylabel('Aleatoric')\n",
    "f.tight_layout()\n",
    "f.savefig('sensitivity_{}_{}.png'.format(dataset, inds[ind]), dpi=600)"
   ]
  },
  {
   "cell_type": "code",
   "execution_count": 66,
   "metadata": {},
   "outputs": [
    {
     "data": {
      "image/png": "[encoded data removed]",
      "text/plain": [
       "<matplotlib.figure.Figure at 0x7f4672c65a90>"
      ]
     },
     "metadata": {},
     "output_type": "display_data"
    }
   ],
   "source": [
    "f, ax = plt.subplots()\n",
    "ax.imshow(test[0][inds[ind]])\n",
    "ax.set_xticks([])\n",
    "ax.set_yticks([])\n",
    "ax.set_title('Original')\n",
    "f.savefig('original_{}_{}.png'.format(dataset, inds[ind]), dpi=600)"
   ]
  }
 ],
 "metadata": {
  "kernelspec": {
   "display_name": "concretedropout",
   "language": "python",
   "name": "concretedropout"
  },
  "language_info": {
   "codemirror_mode": {
    "name": "ipython",
    "version": 3
   },
   "file_extension": ".py",
   "mimetype": "text/x-python",
   "name": "python",
   "nbconvert_exporter": "python",
   "pygments_lexer": "ipython3",
   "version": "3.5.3"
  }
 },
 "nbformat": 4,
 "nbformat_minor": 2
}
