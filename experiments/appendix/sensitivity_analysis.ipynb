{
 "cells": [
  {
   "cell_type": "code",
   "execution_count": 1,
   "metadata": {},
   "outputs": [
    {
     "name": "stderr",
     "output_type": "stream",
     "text": [
      "/remote/mlsalt-2017/lrc45/Envs/concretedropout/lib/python3.5/site-packages/h5py/__init__.py:36: FutureWarning: Conversion of the second argument of issubdtype from `float` to `np.floating` is deprecated. In future, it will be treated as `np.float64 == np.dtype(float).type`.\n",
      "  from ._conv import register_converters as _register_converters\n",
      "Using TensorFlow backend.\n"
     ]
    }
   ],
   "source": [
    "%matplotlib inline\n",
    "import matplotlib\n",
    "import matplotlib.pyplot as plt\n",
    "from keras.models import load_model\n",
    "import numpy as np\n",
    "from numpy import ma\n",
    "from BBalpha_dropout import *\n",
    "from keras.layers import Input\n",
    "import tensorflow as tf\n",
    "from toolbox import load_dataset"
   ]
  },
  {
   "cell_type": "code",
   "execution_count": 2,
   "metadata": {},
   "outputs": [],
   "source": [
    "sess = tf.InteractiveSession()\n",
    "tf.global_variables_initializer().run()"
   ]
  },
  {
   "cell_type": "code",
   "execution_count": 3,
   "metadata": {},
   "outputs": [],
   "source": [
    "dataset = 'mnist'\n",
    "file_name = './saved_models/{}-cnn-alpha0.5-run1/model.h5'.format(dataset)\n",
    "model = load_model(file_name, custom_objects={'bbalpha_loss': bbalpha_softmax_cross_entropy_with_mc_logits(0.5),\n",
    "                                              'metric_avg_acc': metric_avg_acc,\n",
    "                                              'metric_avg_ll': metric_avg_ll})\n",
    "_, _, test = load_dataset.load_mnist(flatten=False, channels_first=False)"
   ]
  },
  {
   "cell_type": "code",
   "execution_count": 4,
   "metadata": {},
   "outputs": [],
   "source": [
    "# input_dim = (test[0].shape[1], test[0].shape[2])\n",
    "# input_channels = test[0].shape[3]\n",
    "# input_shape = (input_dim[0], input_dim[1], input_channels) # (dimX, )\n",
    "input_shape = model.layers[0].input_shape[1:] # remove None dimension\n",
    "inp = Input(shape=input_shape)"
   ]
  },
  {
   "cell_type": "code",
   "execution_count": 5,
   "metadata": {},
   "outputs": [],
   "source": [
    "nb_test = 100\n",
    "mc_logits = GenerateMCSamples(inp, model.layers[1:-1], nb_test) # repeats stochastic layers nb_test\n",
    "mc_softmax = Activation('softmax', name='softmax')(mc_logits)  # softmax is over last dim\n",
    "test_model = Model(inputs=inp, outputs=mc_softmax) # check the dimensions of this model"
   ]
  },
  {
   "cell_type": "code",
   "execution_count": 9,
   "metadata": {},
   "outputs": [
    {
     "data": {
      "text/plain": [
       "[<tf.Variable 'conv2d_1/kernel:0' shape=(3, 3, 1, 32) dtype=float32_ref>,\n",
       " <tf.Variable 'conv2d_1/bias:0' shape=(32,) dtype=float32_ref>,\n",
       " <tf.Variable 'conv2d_2/kernel:0' shape=(3, 3, 32, 32) dtype=float32_ref>,\n",
       " <tf.Variable 'conv2d_2/bias:0' shape=(32,) dtype=float32_ref>,\n",
       " <tf.Variable 'dense_1/kernel:0' shape=(4608, 100) dtype=float32_ref>,\n",
       " <tf.Variable 'dense_1/bias:0' shape=(100,) dtype=float32_ref>,\n",
       " <tf.Variable 'dense_2/kernel:0' shape=(100, 10) dtype=float32_ref>,\n",
       " <tf.Variable 'dense_2/bias:0' shape=(10,) dtype=float32_ref>,\n",
       " <tf.Variable 'SGD/iterations:0' shape=() dtype=int64_ref>,\n",
       " <tf.Variable 'SGD/lr:0' shape=() dtype=float32_ref>,\n",
       " <tf.Variable 'SGD/momentum:0' shape=() dtype=float32_ref>,\n",
       " <tf.Variable 'SGD/decay:0' shape=() dtype=float32_ref>,\n",
       " <tf.Variable 'training/SGD/Variable:0' shape=(3, 3, 1, 32) dtype=float32_ref>,\n",
       " <tf.Variable 'training/SGD/Variable_1:0' shape=(32,) dtype=float32_ref>,\n",
       " <tf.Variable 'training/SGD/Variable_2:0' shape=(3, 3, 32, 32) dtype=float32_ref>,\n",
       " <tf.Variable 'training/SGD/Variable_3:0' shape=(32,) dtype=float32_ref>,\n",
       " <tf.Variable 'training/SGD/Variable_4:0' shape=(4608, 100) dtype=float32_ref>,\n",
       " <tf.Variable 'training/SGD/Variable_5:0' shape=(100,) dtype=float32_ref>,\n",
       " <tf.Variable 'training/SGD/Variable_6:0' shape=(100, 10) dtype=float32_ref>,\n",
       " <tf.Variable 'training/SGD/Variable_7:0' shape=(10,) dtype=float32_ref>]"
      ]
     },
     "execution_count": 9,
     "metadata": {},
     "output_type": "execute_result"
    }
   ],
   "source": [
    "tf.trainable_variables()"
   ]
  },
  {
   "cell_type": "code",
   "execution_count": 6,
   "metadata": {},
   "outputs": [],
   "source": [
    "x = tf.placeholder(tf.float32, shape=(None,) + input_shape)"
   ]
  },
  {
   "cell_type": "code",
   "execution_count": 7,
   "metadata": {},
   "outputs": [],
   "source": [
    "def MC_dropout(model, x, n_mc):\n",
    "    pred_mc = model(x) # N x K x D\n",
    "    if n_mc > 1:\n",
    "        pred = tf.reduce_mean(pred_mc, 1)\n",
    "    else:\n",
    "        pred = pred_mc\n",
    "    return pred_mc, pred"
   ]
  },
  {
   "cell_type": "code",
   "execution_count": 8,
   "metadata": {},
   "outputs": [],
   "source": [
    "def tf_log2(x):\n",
    "    numerator = tf.log(x)\n",
    "    denominator = tf.log(tf.constant(2, dtype=numerator.dtype))\n",
    "    return numerator / denominator"
   ]
  },
  {
   "cell_type": "code",
   "execution_count": 9,
   "metadata": {},
   "outputs": [],
   "source": [
    "pred_mc, predictions = MC_dropout(test_model, x, n_mc = nb_test)"
   ]
  },
  {
   "cell_type": "code",
   "execution_count": 10,
   "metadata": {},
   "outputs": [
    {
     "data": {
      "text/plain": [
       "<tf.Tensor 'Neg:0' shape=(?,) dtype=float32>"
      ]
     },
     "execution_count": 10,
     "metadata": {},
     "output_type": "execute_result"
    }
   ],
   "source": [
    "plogp = predictions * tf_log2(tf.clip_by_value(predictions,1e-10,1.0))\n",
    "predictive_uncertainty = - tf.reduce_sum(plogp, axis=1)\n",
    "predictive_uncertainty"
   ]
  },
  {
   "cell_type": "code",
   "execution_count": 11,
   "metadata": {},
   "outputs": [
    {
     "data": {
      "text/plain": [
       "<tf.Tensor 'mul_2:0' shape=(?,) dtype=float32>"
      ]
     },
     "execution_count": 11,
     "metadata": {},
     "output_type": "execute_result"
    }
   ],
   "source": [
    "plogp_mc = pred_mc * tf_log2(tf.clip_by_value(pred_mc,1e-10,1.0))\n",
    "aleatoric_uncertainty = - 1 / nb_test * tf.reduce_sum(plogp_mc, axis=(1,2))\n",
    "aleatoric_uncertainty"
   ]
  },
  {
   "cell_type": "code",
   "execution_count": 12,
   "metadata": {},
   "outputs": [
    {
     "data": {
      "text/plain": [
       "<tf.Tensor 'sub:0' shape=(?,) dtype=float32>"
      ]
     },
     "execution_count": 12,
     "metadata": {},
     "output_type": "execute_result"
    }
   ],
   "source": [
    "epistemic_uncertainty = predictive_uncertainty - aleatoric_uncertainty\n",
    "epistemic_uncertainty"
   ]
  },
  {
   "cell_type": "code",
   "execution_count": 13,
   "metadata": {},
   "outputs": [],
   "source": [
    "predictive_grad, = tf.gradients(predictive_uncertainty, x)\n",
    "predictive_grad = tf.stop_gradient(predictive_grad)"
   ]
  },
  {
   "cell_type": "code",
   "execution_count": 14,
   "metadata": {},
   "outputs": [],
   "source": [
    "epistemic_grad, = tf.gradients(epistemic_uncertainty, x)\n",
    "epistemic_grad = tf.stop_gradient(epistemic_grad)"
   ]
  },
  {
   "cell_type": "code",
   "execution_count": 15,
   "metadata": {},
   "outputs": [],
   "source": [
    "aleatoric_grad, = tf.gradients(aleatoric_uncertainty, x)\n",
    "aleatoric_grad = tf.stop_gradient(aleatoric_grad)"
   ]
  },
  {
   "cell_type": "code",
   "execution_count": 16,
   "metadata": {},
   "outputs": [],
   "source": [
    "output_grads = []\n",
    "for ii in range(10):\n",
    "    output_grad, = tf.gradients(predictions[:, ii], x)\n",
    "    output_grads.append(tf.stop_gradient(output_grad))"
   ]
  },
  {
   "cell_type": "code",
   "execution_count": 17,
   "metadata": {},
   "outputs": [],
   "source": [
    "[p_grad, a_grad, e_grad, preds] = sess.run([predictive_grad, aleatoric_grad, epistemic_grad, predictions], feed_dict={x: test[0]})\n",
    "# p_grad = sess.run(predictive_grad, feed_dict={x: test[0]})"
   ]
  },
  {
   "cell_type": "code",
   "execution_count": 18,
   "metadata": {},
   "outputs": [],
   "source": [
    "# o_grads = sess.run(output_grads, feed_dict={x: test[0]})"
   ]
  },
  {
   "cell_type": "code",
   "execution_count": 30,
   "metadata": {},
   "outputs": [
    {
     "name": "stdout",
     "output_type": "stream",
     "text": [
      "1\n"
     ]
    },
    {
     "data": {
      "image/png": "[encoded data removed]",
      "text/plain": [
       "<matplotlib.figure.Figure at 0x7fb081f05828>"
      ]
     },
     "metadata": {},
     "output_type": "display_data"
    }
   ],
   "source": [
    "# plot train data\n",
    "ind = 189\n",
    "print(np.argmax(preds[ind, :]))\n",
    "f, axes = plt.subplots(1, 4)\n",
    "axes[0].imshow(test[0][ind, :, :, 0], cmap='gray')\n",
    "im1 = axes[1].imshow(p_grad[ind, :, :, 0], cmap='coolwarm')\n",
    "im2 = axes[2].imshow(a_grad[ind, :, :, 0], cmap='coolwarm')\n",
    "im3 = axes[3].imshow(e_grad[ind, :, :, 0], cmap='coolwarm')\n",
    "\n",
    "\n",
    "# ims = []\n",
    "# for (ax, grad) in zip(axes[1:], [p_grad, a_grad, e_grad]):\n",
    "#     ims.append(ax.imshow(grad[ind, :, :, 0], cmap='coolwarm'))\n",
    "# [f.colorbar(im,fraction=0.046, pad=0.04) for im in ims]\n"
   ]
  },
  {
   "cell_type": "code",
   "execution_count": 31,
   "metadata": {},
   "outputs": [
    {
     "name": "stdout",
     "output_type": "stream",
     "text": [
      "1\n",
      "0.9999999\n"
     ]
    },
    {
     "data": {
      "image/png": "[encoded data removed]",
      "text/plain": [
       "<matplotlib.figure.Figure at 0x7fb0660877f0>"
      ]
     },
     "metadata": {},
     "output_type": "display_data"
    }
   ],
   "source": [
    "# print(np.argmax(preds[ind, :]))\n",
    "# print(np.sum(preds[ind, :]))\n",
    "# f, axes = plt.subplots(2, 5)\n",
    "# axes = [ax for x in axes for ax in x]\n",
    "# for (ii, ax) in enumerate(axes):\n",
    "#     ax.imshow(o_grads[ii][ind, :, :, 0])\n",
    "#     ax.set_title(ii)\n",
    "# f.tight_layout()"
   ]
  },
  {
   "cell_type": "code",
   "execution_count": 21,
   "metadata": {},
   "outputs": [
    {
     "data": {
      "text/plain": [
       "0.9925"
      ]
     },
     "execution_count": 21,
     "metadata": {},
     "output_type": "execute_result"
    }
   ],
   "source": [
    "np.mean(np.argmax(preds, axis=-1) == np.argmax(test[1], axis=-1))"
   ]
  },
  {
   "cell_type": "markdown",
   "metadata": {},
   "source": [
    "# building model with uncertainties"
   ]
  },
  {
   "cell_type": "code",
   "execution_count": 1,
   "metadata": {},
   "outputs": [
    {
     "name": "stderr",
     "output_type": "stream",
     "text": [
      "/remote/mlsalt-2017/lrc45/Envs/concretedropout/lib/python3.5/site-packages/h5py/__init__.py:36: FutureWarning: Conversion of the second argument of issubdtype from `float` to `np.floating` is deprecated. In future, it will be treated as `np.float64 == np.dtype(float).type`.\n",
      "  from ._conv import register_converters as _register_converters\n",
      "Using TensorFlow backend.\n"
     ]
    }
   ],
   "source": [
    "from BBalpha_dropout import *"
   ]
  },
  {
   "cell_type": "code",
   "execution_count": 2,
   "metadata": {},
   "outputs": [],
   "source": [
    "dataset = 'mnist'\n",
    "filepath = './saved_models/{}-cnn-alpha0.5-run1/model.h5'.format(dataset)\n",
    "outputpath = 'temp/model_w_uncertainty'\n",
    "K_mc_test = 100"
   ]
  },
  {
   "cell_type": "code",
   "execution_count": 3,
   "metadata": {},
   "outputs": [],
   "source": [
    "add_uncertainty_to_model(filepath, outputpath, K_mc_test)"
   ]
  },
  {
   "cell_type": "markdown",
   "metadata": {},
   "source": [
    "# loading model with uncertainties"
   ]
  },
  {
   "cell_type": "code",
   "execution_count": 1,
   "metadata": {},
   "outputs": [
    {
     "name": "stderr",
     "output_type": "stream",
     "text": [
      "/remote/mlsalt-2017/lrc45/Envs/concretedropout/lib/python3.5/site-packages/h5py/__init__.py:36: FutureWarning: Conversion of the second argument of issubdtype from `float` to `np.floating` is deprecated. In future, it will be treated as `np.float64 == np.dtype(float).type`.\n",
      "  from ._conv import register_converters as _register_converters\n",
      "Using TensorFlow backend.\n"
     ]
    }
   ],
   "source": [
    "import tensorflow as tf\n",
    "import numpy as np\n",
    "from toolbox.load_dataset import load_mnist\n",
    "_, validation, _ = load_mnist(flatten=False, channels_first=False)"
   ]
  },
  {
   "cell_type": "code",
   "execution_count": 2,
   "metadata": {},
   "outputs": [
    {
     "name": "stdout",
     "output_type": "stream",
     "text": [
      "INFO:tensorflow:Restoring parameters from ./temp/model_w_uncertainty\n"
     ]
    }
   ],
   "source": [
    "sess = tf.InteractiveSession()\n",
    "# new_saver = tf.train.import_meta_graph('./temp/my-model.meta')\n",
    "new_saver = tf.train.import_meta_graph('temp/model_w_uncertainty.meta')\n",
    "new_saver.restore(sess, tf.train.latest_checkpoint('./temp'))"
   ]
  },
  {
   "cell_type": "code",
   "execution_count": 3,
   "metadata": {},
   "outputs": [],
   "source": [
    "graph = tf.get_default_graph()\n",
    "x = graph.get_tensor_by_name('x_ph:0')\n",
    "pred_mc = graph.get_tensor_by_name('pred_mc:0')\n",
    "pred = graph.get_tensor_by_name('pred:0')\n",
    "predictive = graph.get_tensor_by_name('predictive_uncertainty:0')\n",
    "aleatoric = graph.get_tensor_by_name('aleatoric_uncertainty:0')\n",
    "epistemic = graph.get_tensor_by_name('epistemic_uncertainty:0')"
   ]
  },
  {
   "cell_type": "code",
   "execution_count": 6,
   "metadata": {},
   "outputs": [],
   "source": [
    "[p, p_un, a_un] = sess.run([pred, predictive, aleatoric], feed_dict={x: validation[0]})"
   ]
  },
  {
   "cell_type": "code",
   "execution_count": 7,
   "metadata": {},
   "outputs": [
    {
     "data": {
      "text/plain": [
       "0.9921666666666666"
      ]
     },
     "execution_count": 7,
     "metadata": {},
     "output_type": "execute_result"
    }
   ],
   "source": [
    "np.mean(np.argmax(p, axis=-1) == np.argmax(validation[1], axis=-1))"
   ]
  },
  {
   "cell_type": "markdown",
   "metadata": {},
   "source": [
    "# Add noise shape to model"
   ]
  },
  {
   "cell_type": "code",
   "execution_count": 2,
   "metadata": {},
   "outputs": [],
   "source": [
    "dataset = 'mnist'\n",
    "file_name = './saved_models/{}-cnn-alpha0.5-run1/model.h5'.format(dataset)\n",
    "model = load_model(file_name, custom_objects={'bbalpha_loss': bbalpha_softmax_cross_entropy_with_mc_logits(0.5),\n",
    "                                              'metric_avg_acc': metric_avg_acc,\n",
    "                                              'metric_avg_ll': metric_avg_ll})\n",
    "_, _, test = load_dataset.load_mnist(flatten=False, channels_first=False)"
   ]
  },
  {
   "cell_type": "code",
   "execution_count": 3,
   "metadata": {},
   "outputs": [],
   "source": [
    "input_shape = model.layers[0].input_shape[1:]\n",
    "inp = Input(shape=input_shape)"
   ]
  },
  {
   "cell_type": "code",
   "execution_count": 4,
   "metadata": {},
   "outputs": [
    {
     "data": {
      "text/plain": [
       "(1, 28, 28, 1)"
      ]
     },
     "execution_count": 4,
     "metadata": {},
     "output_type": "execute_result"
    }
   ],
   "source": [
    "noise_shape"
   ]
  },
  {
   "cell_type": "code",
   "execution_count": 22,
   "metadata": {},
   "outputs": [
    {
     "name": "stdout",
     "output_type": "stream",
     "text": [
      "Replacing Layer 6...noise shape: (1, 4608)\n",
      "Replacing Layer 9...noise shape: (1, 100)\n"
     ]
    }
   ],
   "source": [
    "layers = model.layers[1:-1]\n",
    "for ii, layer in enumerate(layers):\n",
    "    if 'lambda' in layer.name:\n",
    "        noise_shape = (1,) + layers[ii-1].output_shape[1:] # omit N dim\n",
    "        layers[ii] = Dropout_mc(0.5, noise_shape=noise_shape)\n",
    "        print(\"Replacing Layer {}...noise shape: {}\".format(ii, noise_shape))"
   ]
  },
  {
   "cell_type": "code",
   "execution_count": 23,
   "metadata": {},
   "outputs": [],
   "source": [
    "K_mc_test = 5\n",
    "mc_logits = GenerateMCSamples(inp, layers, K_mc_test)"
   ]
  },
  {
   "cell_type": "markdown",
   "metadata": {},
   "source": [
    "# gradients of uncertainty wrt weights"
   ]
  },
  {
   "cell_type": "code",
   "execution_count": 1,
   "metadata": {},
   "outputs": [
    {
     "name": "stderr",
     "output_type": "stream",
     "text": [
      "/remote/mlsalt-2017/lrc45/Envs/concretedropout/lib/python3.5/site-packages/h5py/__init__.py:36: FutureWarning: Conversion of the second argument of issubdtype from `float` to `np.floating` is deprecated. In future, it will be treated as `np.float64 == np.dtype(float).type`.\n",
      "  from ._conv import register_converters as _register_converters\n",
      "Using TensorFlow backend.\n"
     ]
    }
   ],
   "source": [
    "import tensorflow as tf\n",
    "import numpy as np\n",
    "from toolbox.load_dataset import load_mnist\n",
    "_, validation, _ = load_mnist(flatten=False, channels_first=False)"
   ]
  },
  {
   "cell_type": "code",
   "execution_count": 2,
   "metadata": {},
   "outputs": [
    {
     "name": "stdout",
     "output_type": "stream",
     "text": [
      "INFO:tensorflow:Restoring parameters from ./saved_models/mnist-cnn-alpha0.5-run1/model_w_uncertainty\n"
     ]
    }
   ],
   "source": [
    "sess = tf.InteractiveSession()\n",
    "# new_saver = tf.train.import_meta_graph('./temp/my-model.meta')\n",
    "new_saver = tf.train.import_meta_graph('saved_models/mnist-cnn-alpha0.5-run1/model_w_uncertainty.meta')\n",
    "new_saver.restore(sess, tf.train.latest_checkpoint('./saved_models/mnist-cnn-alpha0.5-run1'))"
   ]
  },
  {
   "cell_type": "code",
   "execution_count": 3,
   "metadata": {},
   "outputs": [],
   "source": [
    "graph = tf.get_default_graph()\n",
    "x = graph.get_tensor_by_name('x_ph:0')\n",
    "pred_mc = graph.get_tensor_by_name('pred_mc:0')\n",
    "pred = graph.get_tensor_by_name('pred:0')\n",
    "predictive = graph.get_tensor_by_name('predictive_uncertainty:0')\n",
    "aleatoric = graph.get_tensor_by_name('aleatoric_uncertainty:0')\n",
    "epistemic = graph.get_tensor_by_name('epistemic_uncertainty:0')"
   ]
  },
  {
   "cell_type": "code",
   "execution_count": 5,
   "metadata": {},
   "outputs": [
    {
     "data": {
      "text/plain": [
       "[<tf.Variable 'conv2d_1/kernel:0' shape=(3, 3, 1, 32) dtype=float32_ref>,\n",
       " <tf.Variable 'conv2d_1/bias:0' shape=(32,) dtype=float32_ref>,\n",
       " <tf.Variable 'conv2d_2/kernel:0' shape=(3, 3, 32, 32) dtype=float32_ref>,\n",
       " <tf.Variable 'conv2d_2/bias:0' shape=(32,) dtype=float32_ref>,\n",
       " <tf.Variable 'dense_1/kernel:0' shape=(4608, 100) dtype=float32_ref>,\n",
       " <tf.Variable 'dense_1/bias:0' shape=(100,) dtype=float32_ref>,\n",
       " <tf.Variable 'dense_2/kernel:0' shape=(100, 10) dtype=float32_ref>,\n",
       " <tf.Variable 'dense_2/bias:0' shape=(10,) dtype=float32_ref>]"
      ]
     },
     "execution_count": 5,
     "metadata": {},
     "output_type": "execute_result"
    }
   ],
   "source": [
    "tf.trainable_variables()[:8]"
   ]
  },
  {
   "cell_type": "code",
   "execution_count": 6,
   "metadata": {},
   "outputs": [],
   "source": [
    "grads = tf.gradients(predictive, tf.trainable_variables()[:8], stop_gradients=tf.trainable_variables()[:8])"
   ]
  },
  {
   "cell_type": "code",
   "execution_count": 7,
   "metadata": {
    "scrolled": true
   },
   "outputs": [
    {
     "data": {
      "text/plain": [
       "[<tf.Tensor 'gradients/AddN_10:0' shape=(3, 3, 1, 32) dtype=float32>,\n",
       " <tf.Tensor 'gradients/AddN_9:0' shape=(32,) dtype=float32>,\n",
       " <tf.Tensor 'gradients/AddN_8:0' shape=(3, 3, 32, 32) dtype=float32>,\n",
       " <tf.Tensor 'gradients/AddN_7:0' shape=(32,) dtype=float32>,\n",
       " <tf.Tensor 'gradients/AddN_6:0' shape=(4608, 100) dtype=float32>,\n",
       " <tf.Tensor 'gradients/AddN_5:0' shape=(100,) dtype=float32>,\n",
       " <tf.Tensor 'gradients/AddN_4:0' shape=(100, 10) dtype=float32>,\n",
       " <tf.Tensor 'gradients/AddN_3:0' shape=(10,) dtype=float32>]"
      ]
     },
     "execution_count": 7,
     "metadata": {},
     "output_type": "execute_result"
    }
   ],
   "source": [
    "grads"
   ]
  },
  {
   "cell_type": "code",
   "execution_count": 8,
   "metadata": {},
   "outputs": [],
   "source": [
    "g = sess.run(grads, feed_dict={x: validation[0][:1]})"
   ]
  },
  {
   "cell_type": "code",
   "execution_count": 11,
   "metadata": {},
   "outputs": [
    {
     "data": {
      "text/plain": [
       "(32,)"
      ]
     },
     "execution_count": 11,
     "metadata": {},
     "output_type": "execute_result"
    }
   ],
   "source": [
    "g[1].shape"
   ]
  },
  {
   "cell_type": "code",
   "execution_count": null,
   "metadata": {},
   "outputs": [],
   "source": []
  }
 ],
 "metadata": {
  "kernelspec": {
   "display_name": "concretedropout",
   "language": "python",
   "name": "concretedropout"
  },
  "language_info": {
   "codemirror_mode": {
    "name": "ipython",
    "version": 3
   },
   "file_extension": ".py",
   "mimetype": "text/x-python",
   "name": "python",
   "nbconvert_exporter": "python",
   "pygments_lexer": "ipython3",
   "version": "3.5.3"
  }
 },
 "nbformat": 4,
 "nbformat_minor": 2
}
